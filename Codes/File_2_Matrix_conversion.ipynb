{
 "cells": [
  {
   "cell_type": "code",
   "execution_count": 13,
   "metadata": {},
   "outputs": [],
   "source": [
    "import json"
   ]
  },
  {
   "cell_type": "code",
   "execution_count": 14,
   "metadata": {},
   "outputs": [],
   "source": [
    "def sub_func(file):\n",
    "    lis = []\n",
    "    with open(file, \"r\") as f:\n",
    "        text = f.read()\n",
    "    text_list = text.split(\"\\n\")\n",
    "    for i in range(5):\n",
    "        lis.append(json.loads(text_list[i]))\n",
    "    return lis\n",
    "    "
   ]
  },
  {
   "cell_type": "code",
   "execution_count": 15,
   "metadata": {},
   "outputs": [],
   "source": [
    "def col_func(name1, name2, name3, name4, name5, name6, name7):\n",
    "    lis = sub_func(name1)\n",
    "    lis += sub_func(name2)\n",
    "    lis += sub_func(name3)\n",
    "    lis += sub_func(name4)\n",
    "    lis += sub_func(name5)\n",
    "    lis += sub_func(name6)\n",
    "    lis += sub_func(name7)\n",
    "    return lis\n",
    "        "
   ]
  },
  {
   "cell_type": "code",
   "execution_count": 16,
   "metadata": {},
   "outputs": [],
   "source": [
    "lis0 = col_func(\"data_0_1.txt\", \"data_0_2.txt\", \"data_0_3.txt\", \"data_0_4.txt\", \"data_0_5.txt\", \"data_0_6.txt\", \"data_0_7.txt\")\n",
    "lis1 = col_func(\"data_1_1.txt\", \"data_1_2.txt\", \"data_1_3.txt\", \"data_1_4.txt\", \"data_1_5.txt\", \"data_1_6.txt\", \"data_1_7.txt\")\n",
    "lis2 = col_func(\"data_2_1.txt\", \"data_2_2.txt\", \"data_2_3.txt\", \"data_2_4.txt\", \"data_2_5.txt\", \"data_2_6.txt\", \"data_2_7.txt\")\n",
    "lis3 = col_func(\"data_3_1.txt\", \"data_3_2.txt\", \"data_3_3.txt\", \"data_3_4.txt\", \"data_3_5.txt\", \"data_3_6.txt\", \"data_3_7.txt\")\n",
    "lis4 = col_func(\"data_4_1.txt\", \"data_4_2.txt\", \"data_4_3.txt\", \"data_4_4.txt\", \"data_4_5.txt\", \"data_4_6.txt\", \"data_4_7.txt\")\n",
    "lis5 = col_func(\"data_5_1.txt\", \"data_5_2.txt\", \"data_5_3.txt\", \"data_5_4.txt\", \"data_5_5.txt\", \"data_5_6.txt\", \"data_5_7.txt\")\n",
    "lis6 = col_func(\"data_6_1.txt\", \"data_6_2.txt\", \"data_6_3.txt\", \"data_6_4.txt\", \"data_6_5.txt\", \"data_6_6.txt\", \"data_6_7.txt\")\n",
    "lis7 = col_func(\"data_7_1.txt\", \"data_7_2.txt\", \"data_7_3.txt\", \"data_7_4.txt\", \"data_7_5.txt\", \"data_7_6.txt\", \"data_7_7.txt\")\n",
    "lis8 = col_func(\"data_8_1.txt\", \"data_8_2.txt\", \"data_8_3.txt\", \"data_8_4.txt\", \"data_8_5.txt\", \"data_8_6.txt\", \"data_8_7.txt\")\n",
    "lis9 = col_func(\"data_9_1.txt\", \"data_9_2.txt\", \"data_9_3.txt\", \"data_9_4.txt\", \"data_9_5.txt\", \"data_9_6.txt\", \"data_9_7.txt\")\n",
    "\n",
    "lis10 = col_func(\"data_10_1.txt\", \"data_10_2.txt\", \"data_10_3.txt\", \"data_10_4.txt\", \"data_10_5.txt\", \"data_10_6.txt\", \"data_10_7.txt\")\n",
    "lis11 = col_func(\"data_11_1.txt\", \"data_11_2.txt\", \"data_11_3.txt\", \"data_11_4.txt\", \"data_11_5.txt\", \"data_11_6.txt\", \"data_11_7.txt\")\n",
    "lis12 = col_func(\"data_12_1.txt\", \"data_12_2.txt\", \"data_12_3.txt\", \"data_12_4.txt\", \"data_12_5.txt\", \"data_12_6.txt\", \"data_12_7.txt\")\n",
    "lis13 = col_func(\"data_13_1.txt\", \"data_13_2.txt\", \"data_13_3.txt\", \"data_13_4.txt\", \"data_13_5.txt\", \"data_13_6.txt\", \"data_13_7.txt\")\n",
    "lis14 = col_func(\"data_14_1.txt\", \"data_14_2.txt\", \"data_14_3.txt\", \"data_14_4.txt\", \"data_14_5.txt\", \"data_14_6.txt\", \"data_14_7.txt\")\n",
    "lis15 = col_func(\"data_15_1.txt\", \"data_15_2.txt\", \"data_15_3.txt\", \"data_15_4.txt\", \"data_15_5.txt\", \"data_15_6.txt\", \"data_15_7.txt\")\n",
    "lis16 = col_func(\"data_16_1.txt\", \"data_16_2.txt\", \"data_16_3.txt\", \"data_16_4.txt\", \"data_16_5.txt\", \"data_16_6.txt\", \"data_16_7.txt\")\n",
    "lis17 = col_func(\"data_17_1.txt\", \"data_17_2.txt\", \"data_17_3.txt\", \"data_17_4.txt\", \"data_17_5.txt\", \"data_17_6.txt\", \"data_17_7.txt\")\n",
    "lis18 = col_func(\"data_18_1.txt\", \"data_18_2.txt\", \"data_18_3.txt\", \"data_18_4.txt\", \"data_18_5.txt\", \"data_18_6.txt\", \"data_18_7.txt\")\n",
    "lis19 = col_func(\"data_19_1.txt\", \"data_19_2.txt\", \"data_19_3.txt\", \"data_19_4.txt\", \"data_19_5.txt\", \"data_19_6.txt\", \"data_19_7.txt\")\n",
    "\n",
    "lis20 = col_func(\"data_20_1.txt\", \"data_20_2.txt\", \"data_20_3.txt\", \"data_20_4.txt\", \"data_20_5.txt\", \"data_20_6.txt\", \"data_20_7.txt\")\n",
    "lis21 = col_func(\"data_21_1.txt\", \"data_21_2.txt\", \"data_21_3.txt\", \"data_21_4.txt\", \"data_21_5.txt\", \"data_21_6.txt\", \"data_21_7.txt\")\n",
    "lis22 = col_func(\"data_22_1.txt\", \"data_22_2.txt\", \"data_22_3.txt\", \"data_22_4.txt\", \"data_22_5.txt\", \"data_22_6.txt\", \"data_22_7.txt\")\n",
    "lis23 = col_func(\"data_23_1.txt\", \"data_23_2.txt\", \"data_23_3.txt\", \"data_23_4.txt\", \"data_23_5.txt\", \"data_23_6.txt\", \"data_23_7.txt\")\n",
    "lis24 = col_func(\"data_24_1.txt\", \"data_24_2.txt\", \"data_24_3.txt\", \"data_24_4.txt\", \"data_24_5.txt\", \"data_24_6.txt\", \"data_24_7.txt\")\n",
    "lis25 = col_func(\"data_25_1.txt\", \"data_25_2.txt\", \"data_25_3.txt\", \"data_25_4.txt\", \"data_25_5.txt\", \"data_25_6.txt\", \"data_25_7.txt\")\n",
    "lis26 = col_func(\"data_26_1.txt\", \"data_26_2.txt\", \"data_26_3.txt\", \"data_26_4.txt\", \"data_26_5.txt\", \"data_26_6.txt\", \"data_26_7.txt\")\n",
    "lis27 = col_func(\"data_27_1.txt\", \"data_27_2.txt\", \"data_27_3.txt\", \"data_27_4.txt\", \"data_27_5.txt\", \"data_27_6.txt\", \"data_27_7.txt\")\n",
    "lis28 = col_func(\"data_28_1.txt\", \"data_28_2.txt\", \"data_28_3.txt\", \"data_28_4.txt\", \"data_28_5.txt\", \"data_28_6.txt\", \"data_28_7.txt\")\n",
    "lis29 = col_func(\"data_29_1.txt\", \"data_29_2.txt\", \"data_29_3.txt\", \"data_29_4.txt\", \"data_29_5.txt\", \"data_29_6.txt\", \"data_29_7.txt\")\n",
    "\n",
    "lis30 = col_func(\"data_30_1.txt\", \"data_30_2.txt\", \"data_30_3.txt\", \"data_30_4.txt\", \"data_30_5.txt\", \"data_30_6.txt\", \"data_30_7.txt\")\n",
    "lis31 = col_func(\"data_31_1.txt\", \"data_31_2.txt\", \"data_31_3.txt\", \"data_31_4.txt\", \"data_31_5.txt\", \"data_31_6.txt\", \"data_31_7.txt\")\n",
    "lis32 = col_func(\"data_32_1.txt\", \"data_32_2.txt\", \"data_32_3.txt\", \"data_32_4.txt\", \"data_32_5.txt\", \"data_32_6.txt\", \"data_32_7.txt\")\n",
    "lis33 = col_func(\"data_33_1.txt\", \"data_33_2.txt\", \"data_33_3.txt\", \"data_33_4.txt\", \"data_33_5.txt\", \"data_33_6.txt\", \"data_33_7.txt\")\n",
    "lis34 = col_func(\"data_34_1.txt\", \"data_34_2.txt\", \"data_34_3.txt\", \"data_34_4.txt\", \"data_34_5.txt\", \"data_34_6.txt\", \"data_34_7.txt\")\n",
    "\n"
   ]
  },
  {
   "cell_type": "code",
   "execution_count": 17,
   "metadata": {},
   "outputs": [],
   "source": [
    "final_list = []\n",
    "final_list.append(lis0)\n",
    "final_list.append(lis1)\n",
    "final_list.append(lis2)\n",
    "final_list.append(lis3)\n",
    "final_list.append(lis4)\n",
    "final_list.append(lis5)\n",
    "final_list.append(lis6)\n",
    "final_list.append(lis7)\n",
    "final_list.append(lis8)\n",
    "final_list.append(lis9)\n",
    "final_list.append(lis10)\n",
    "final_list.append(lis11)\n",
    "final_list.append(lis12)\n",
    "final_list.append(lis13)\n",
    "final_list.append(lis14)\n",
    "final_list.append(lis15)\n",
    "final_list.append(lis16)\n",
    "final_list.append(lis17)\n",
    "final_list.append(lis18)\n",
    "final_list.append(lis19)\n",
    "final_list.append(lis20)\n",
    "final_list.append(lis21)\n",
    "final_list.append(lis22)\n",
    "final_list.append(lis23)\n",
    "final_list.append(lis24)\n",
    "final_list.append(lis25)\n",
    "final_list.append(lis26)\n",
    "final_list.append(lis27)\n",
    "final_list.append(lis28)\n",
    "final_list.append(lis29)\n",
    "final_list.append(lis30)\n",
    "final_list.append(lis31)\n",
    "final_list.append(lis32)\n",
    "final_list.append(lis33)\n",
    "final_list.append(lis34)"
   ]
  },
  {
   "cell_type": "code",
   "execution_count": 18,
   "metadata": {},
   "outputs": [
    {
     "data": {
      "text/plain": [
       "5"
      ]
     },
     "execution_count": 18,
     "metadata": {},
     "output_type": "execute_result"
    }
   ],
   "source": [
    "len(final_list)"
   ]
  },
  {
   "cell_type": "code",
   "execution_count": 19,
   "metadata": {},
   "outputs": [
    {
     "data": {
      "text/plain": [
       "35"
      ]
     },
     "execution_count": 19,
     "metadata": {},
     "output_type": "execute_result"
    }
   ],
   "source": [
    "len(final_list[0])"
   ]
  },
  {
   "cell_type": "code",
   "execution_count": 20,
   "metadata": {},
   "outputs": [
    {
     "data": {
      "text/plain": [
       "50"
      ]
     },
     "execution_count": 20,
     "metadata": {},
     "output_type": "execute_result"
    }
   ],
   "source": [
    "len(final_list[0][0])"
   ]
  },
  {
   "cell_type": "code",
   "execution_count": 21,
   "metadata": {},
   "outputs": [
    {
     "data": {
      "text/plain": [
       "50"
      ]
     },
     "execution_count": 21,
     "metadata": {},
     "output_type": "execute_result"
    }
   ],
   "source": [
    "len(final_list[0][0][0])"
   ]
  },
  {
   "cell_type": "code",
   "execution_count": 22,
   "metadata": {},
   "outputs": [],
   "source": [
    "with open(\"final_mat.txt\", \"w\") as f:\n",
    "    for ele in final_list:\n",
    "        f.write(\"%s\\n\" %ele)"
   ]
  },
  {
   "cell_type": "code",
   "execution_count": null,
   "metadata": {},
   "outputs": [],
   "source": []
  },
  {
   "cell_type": "code",
   "execution_count": null,
   "metadata": {},
   "outputs": [],
   "source": []
  },
  {
   "cell_type": "code",
   "execution_count": null,
   "metadata": {},
   "outputs": [],
   "source": []
  }
 ],
 "metadata": {
  "kernelspec": {
   "display_name": "Python 3",
   "language": "python",
   "name": "python3"
  },
  "language_info": {
   "codemirror_mode": {
    "name": "ipython",
    "version": 3
   },
   "file_extension": ".py",
   "mimetype": "text/x-python",
   "name": "python",
   "nbconvert_exporter": "python",
   "pygments_lexer": "ipython3",
   "version": "3.8.3"
  }
 },
 "nbformat": 4,
 "nbformat_minor": 4
}
